{
 "cells": [
  {
   "cell_type": "code",
   "execution_count": 1,
   "id": "07644972-6927-443b-aec0-c1ee22efe05a",
   "metadata": {},
   "outputs": [],
   "source": [
    "import pandas as pd"
   ]
  },
  {
   "cell_type": "code",
   "execution_count": 2,
   "id": "d9151b98-f248-4e77-adc7-bc2e22aae142",
   "metadata": {},
   "outputs": [],
   "source": [
    "import numpy as np"
   ]
  },
  {
   "cell_type": "code",
   "execution_count": 3,
   "id": "cc077342-d5d5-4af5-a806-c59145649ba6",
   "metadata": {},
   "outputs": [],
   "source": [
    "import matplotlib.pyplot as plt"
   ]
  },
  {
   "cell_type": "code",
   "execution_count": 20,
   "id": "7df41c59-b808-4727-9144-2ccdc45fec69",
   "metadata": {},
   "outputs": [],
   "source": [
    "import seaborn as sns"
   ]
  },
  {
   "cell_type": "code",
   "execution_count": 21,
   "id": "0092cc21-ebb6-4bca-8bba-8e523afe052a",
   "metadata": {},
   "outputs": [],
   "source": [
    "data= pd.read_csv(\"deodorant_dataset.csv\")"
   ]
  },
  {
   "cell_type": "code",
   "execution_count": 5,
   "id": "30ae9a58-34f4-4719-a318-44cafc03272f",
   "metadata": {},
   "outputs": [],
   "source": [
    "df=data.drop(['Online Availability'],axis=1)"
   ]
  },
  {
   "cell_type": "code",
   "execution_count": 6,
   "id": "f6a1e5ec-705c-49ba-8c17-da6fceb662d1",
   "metadata": {},
   "outputs": [
    {
     "data": {
      "text/html": [
       "<div>\n",
       "<style scoped>\n",
       "    .dataframe tbody tr th:only-of-type {\n",
       "        vertical-align: middle;\n",
       "    }\n",
       "\n",
       "    .dataframe tbody tr th {\n",
       "        vertical-align: top;\n",
       "    }\n",
       "\n",
       "    .dataframe thead th {\n",
       "        text-align: right;\n",
       "    }\n",
       "</style>\n",
       "<table border=\"1\" class=\"dataframe\">\n",
       "  <thead>\n",
       "    <tr style=\"text-align: right;\">\n",
       "      <th></th>\n",
       "      <th>Brand Name</th>\n",
       "      <th>Product Name</th>\n",
       "      <th>Category</th>\n",
       "      <th>Fragrance Type</th>\n",
       "      <th>Volume (ml)</th>\n",
       "      <th>Price (INR)</th>\n",
       "      <th>Long-lasting (hours)</th>\n",
       "      <th>Alcohol-Free</th>\n",
       "      <th>Skin-Friendly</th>\n",
       "      <th>Anti-Perspirant</th>\n",
       "      <th>Customer Rating</th>\n",
       "      <th>Number of Reviews</th>\n",
       "      <th>Manufacturing Date</th>\n",
       "      <th>Expiry Date</th>\n",
       "      <th>Country of Origin</th>\n",
       "      <th>Packaging Type</th>\n",
       "      <th>Shelf Life (Months)</th>\n",
       "      <th>Sales in Last Month (Units)</th>\n",
       "      <th>Discount (%)</th>\n",
       "      <th>Retailer Name</th>\n",
       "    </tr>\n",
       "  </thead>\n",
       "  <tbody>\n",
       "    <tr>\n",
       "      <th>0</th>\n",
       "      <td>Nike Deodorant</td>\n",
       "      <td>Variant 29</td>\n",
       "      <td>Men</td>\n",
       "      <td>Fresh</td>\n",
       "      <td>200</td>\n",
       "      <td>265</td>\n",
       "      <td>15</td>\n",
       "      <td>No</td>\n",
       "      <td>No</td>\n",
       "      <td>Yes</td>\n",
       "      <td>2.5</td>\n",
       "      <td>4654</td>\n",
       "      <td>2022-01-01</td>\n",
       "      <td>2024-01-01</td>\n",
       "      <td>India</td>\n",
       "      <td>Roll-on</td>\n",
       "      <td>25</td>\n",
       "      <td>8623</td>\n",
       "      <td>20</td>\n",
       "      <td>Nykaa</td>\n",
       "    </tr>\n",
       "    <tr>\n",
       "      <th>1</th>\n",
       "      <td>Envy Deo</td>\n",
       "      <td>Variant 21</td>\n",
       "      <td>Men</td>\n",
       "      <td>Citrus</td>\n",
       "      <td>100</td>\n",
       "      <td>515</td>\n",
       "      <td>4</td>\n",
       "      <td>Yes</td>\n",
       "      <td>No</td>\n",
       "      <td>Yes</td>\n",
       "      <td>2.9</td>\n",
       "      <td>2500</td>\n",
       "      <td>2022-01-02</td>\n",
       "      <td>2024-01-02</td>\n",
       "      <td>India</td>\n",
       "      <td>Roll-on</td>\n",
       "      <td>26</td>\n",
       "      <td>3616</td>\n",
       "      <td>36</td>\n",
       "      <td>Flipkart</td>\n",
       "    </tr>\n",
       "    <tr>\n",
       "      <th>2</th>\n",
       "      <td>Nivea</td>\n",
       "      <td>Variant 3</td>\n",
       "      <td>Women</td>\n",
       "      <td>Oriental</td>\n",
       "      <td>150</td>\n",
       "      <td>249</td>\n",
       "      <td>8</td>\n",
       "      <td>Yes</td>\n",
       "      <td>No</td>\n",
       "      <td>Yes</td>\n",
       "      <td>3.6</td>\n",
       "      <td>3061</td>\n",
       "      <td>2022-01-03</td>\n",
       "      <td>2024-01-03</td>\n",
       "      <td>India</td>\n",
       "      <td>Spray</td>\n",
       "      <td>13</td>\n",
       "      <td>2425</td>\n",
       "      <td>11</td>\n",
       "      <td>Flipkart</td>\n",
       "    </tr>\n",
       "    <tr>\n",
       "      <th>3</th>\n",
       "      <td>Nike Deodorant</td>\n",
       "      <td>Variant 30</td>\n",
       "      <td>Unisex</td>\n",
       "      <td>Woody</td>\n",
       "      <td>250</td>\n",
       "      <td>487</td>\n",
       "      <td>12</td>\n",
       "      <td>Yes</td>\n",
       "      <td>Yes</td>\n",
       "      <td>No</td>\n",
       "      <td>2.5</td>\n",
       "      <td>3411</td>\n",
       "      <td>2022-01-04</td>\n",
       "      <td>2024-01-04</td>\n",
       "      <td>India</td>\n",
       "      <td>Spray</td>\n",
       "      <td>28</td>\n",
       "      <td>7509</td>\n",
       "      <td>15</td>\n",
       "      <td>Local Store</td>\n",
       "    </tr>\n",
       "    <tr>\n",
       "      <th>4</th>\n",
       "      <td>Rexona Deodorant</td>\n",
       "      <td>Variant 11</td>\n",
       "      <td>Unisex</td>\n",
       "      <td>Citrus</td>\n",
       "      <td>250</td>\n",
       "      <td>317</td>\n",
       "      <td>20</td>\n",
       "      <td>Yes</td>\n",
       "      <td>Yes</td>\n",
       "      <td>Yes</td>\n",
       "      <td>4.2</td>\n",
       "      <td>4473</td>\n",
       "      <td>2022-01-05</td>\n",
       "      <td>2024-01-05</td>\n",
       "      <td>India</td>\n",
       "      <td>Roll-on</td>\n",
       "      <td>18</td>\n",
       "      <td>3803</td>\n",
       "      <td>47</td>\n",
       "      <td>Local Store</td>\n",
       "    </tr>\n",
       "  </tbody>\n",
       "</table>\n",
       "</div>"
      ],
      "text/plain": [
       "         Brand Name Product Name Category Fragrance Type  Volume (ml)  \\\n",
       "0    Nike Deodorant   Variant 29      Men          Fresh          200   \n",
       "1          Envy Deo   Variant 21      Men         Citrus          100   \n",
       "2             Nivea    Variant 3    Women       Oriental          150   \n",
       "3    Nike Deodorant   Variant 30   Unisex          Woody          250   \n",
       "4  Rexona Deodorant   Variant 11   Unisex         Citrus          250   \n",
       "\n",
       "   Price (INR)  Long-lasting (hours) Alcohol-Free Skin-Friendly  \\\n",
       "0          265                    15           No            No   \n",
       "1          515                     4          Yes            No   \n",
       "2          249                     8          Yes            No   \n",
       "3          487                    12          Yes           Yes   \n",
       "4          317                    20          Yes           Yes   \n",
       "\n",
       "  Anti-Perspirant  Customer Rating  Number of Reviews Manufacturing Date  \\\n",
       "0             Yes              2.5               4654         2022-01-01   \n",
       "1             Yes              2.9               2500         2022-01-02   \n",
       "2             Yes              3.6               3061         2022-01-03   \n",
       "3              No              2.5               3411         2022-01-04   \n",
       "4             Yes              4.2               4473         2022-01-05   \n",
       "\n",
       "  Expiry Date Country of Origin Packaging Type  Shelf Life (Months)  \\\n",
       "0  2024-01-01             India        Roll-on                   25   \n",
       "1  2024-01-02             India        Roll-on                   26   \n",
       "2  2024-01-03             India          Spray                   13   \n",
       "3  2024-01-04             India          Spray                   28   \n",
       "4  2024-01-05             India        Roll-on                   18   \n",
       "\n",
       "   Sales in Last Month (Units)  Discount (%) Retailer Name  \n",
       "0                         8623            20         Nykaa  \n",
       "1                         3616            36      Flipkart  \n",
       "2                         2425            11      Flipkart  \n",
       "3                         7509            15   Local Store  \n",
       "4                         3803            47   Local Store  "
      ]
     },
     "execution_count": 6,
     "metadata": {},
     "output_type": "execute_result"
    }
   ],
   "source": [
    "df.head()"
   ]
  },
  {
   "cell_type": "markdown",
   "id": "79521df5-1795-4440-9146-00875f0ea702",
   "metadata": {},
   "source": [
    "Basic Questions :\n",
    "1. Data Exploration: What are the unique categories of deodorent available in the dataset ?"
   ]
  },
  {
   "cell_type": "code",
   "execution_count": 7,
   "id": "5abf05bf-73f4-45a3-9275-4e6ab56eb8c2",
   "metadata": {},
   "outputs": [
    {
     "name": "stdout",
     "output_type": "stream",
     "text": [
      " the unique categories of deodorent available in the dataset is , ['Men' 'Women' 'Unisex']\n"
     ]
    }
   ],
   "source": [
    "df['Category'].unique()\n",
    "print(\" the unique categories of deodorent available in the dataset is ,\", df['Category'].unique())"
   ]
  },
  {
   "cell_type": "markdown",
   "id": "2b5e0bff-c40a-4bde-93fd-ea887a8689bd",
   "metadata": {},
   "source": [
    "2. Data Cleaning: Are there any missing values in the dataset ? if so how many per column ?"
   ]
  },
  {
   "cell_type": "code",
   "execution_count": 8,
   "id": "a1b2ab0d-ef9e-46a9-820f-86ae066b3ae3",
   "metadata": {},
   "outputs": [
    {
     "data": {
      "text/plain": [
       "Brand Name                     0\n",
       "Product Name                   0\n",
       "Category                       0\n",
       "Fragrance Type                 0\n",
       "Volume (ml)                    0\n",
       "Price (INR)                    0\n",
       "Long-lasting (hours)           0\n",
       "Alcohol-Free                   0\n",
       "Skin-Friendly                  0\n",
       "Anti-Perspirant                0\n",
       "Customer Rating                0\n",
       "Number of Reviews              0\n",
       "Manufacturing Date             0\n",
       "Expiry Date                    0\n",
       "Country of Origin              0\n",
       "Packaging Type                 0\n",
       "Shelf Life (Months)            0\n",
       "Sales in Last Month (Units)    0\n",
       "Discount (%)                   0\n",
       "Retailer Name                  0\n",
       "dtype: int64"
      ]
     },
     "execution_count": 8,
     "metadata": {},
     "output_type": "execute_result"
    }
   ],
   "source": [
    "df.isnull().sum()"
   ]
  },
  {
   "cell_type": "markdown",
   "id": "e12f4a22-e766-4c0f-aac1-68b847b57d37",
   "metadata": {},
   "source": [
    "3. Filtering Data: Retrieve all deodorants that have a price greater than 500 inr :"
   ]
  },
  {
   "cell_type": "code",
   "execution_count": 9,
   "id": "05bd0fcb-164b-4384-83d4-1fca62de09f1",
   "metadata": {},
   "outputs": [
    {
     "name": "stdout",
     "output_type": "stream",
     "text": [
      "                 Brand Name Product Name Category Fragrance Type  Volume (ml)  \\\n",
      "1                  Envy Deo   Variant 21      Men         Citrus          100   \n",
      "9                Engage Deo   Variant 27    Women          Spicy          100   \n",
      "11                 Fogg Deo    Variant 8      Men       Oriental          100   \n",
      "12         Rexona Deodorant   Variant 26    Women         Fruity          150   \n",
      "15           Nike Deodorant    Variant 7      Men       Oriental          100   \n",
      "...                     ...          ...      ...            ...          ...   \n",
      "9985  Park Avenue Deodorant   Variant 23   Unisex          Woody          150   \n",
      "9986       Rexona Deodorant   Variant 41   Unisex          Woody          200   \n",
      "9988     Denver Deo for Men   Variant 13    Women         Citrus          250   \n",
      "9991  Park Avenue Deodorant   Variant 29   Unisex          Spicy          150   \n",
      "9992  Park Avenue Deodorant   Variant 45   Unisex         Fruity          150   \n",
      "\n",
      "      Price (INR)  Long-lasting (hours) Alcohol-Free Skin-Friendly  \\\n",
      "1             515                     4          Yes            No   \n",
      "9             691                    23           No            No   \n",
      "11            607                    22          Yes           Yes   \n",
      "12            626                    23           No            No   \n",
      "15            563                     4          Yes            No   \n",
      "...           ...                   ...          ...           ...   \n",
      "9985          689                    24           No           Yes   \n",
      "9986          662                    14          Yes            No   \n",
      "9988          590                    23           No           Yes   \n",
      "9991          552                     7           No           Yes   \n",
      "9992          595                    18          Yes            No   \n",
      "\n",
      "     Anti-Perspirant  Customer Rating  Number of Reviews Manufacturing Date  \\\n",
      "1                Yes              2.9               2500         2022-01-02   \n",
      "9                 No              4.6               4762         2022-01-10   \n",
      "11                No              4.8               4804         2022-01-12   \n",
      "12                No              3.2               4662         2022-01-13   \n",
      "15                No              4.9               2724         2022-01-16   \n",
      "...              ...              ...                ...                ...   \n",
      "9985              No              4.9               1040         2049-05-04   \n",
      "9986             Yes              3.0               2132         2049-05-05   \n",
      "9988             Yes              3.7               1557         2049-05-07   \n",
      "9991             Yes              4.5               4626         2049-05-10   \n",
      "9992              No              4.3               1011         2049-05-11   \n",
      "\n",
      "     Expiry Date Country of Origin Packaging Type  Shelf Life (Months)  \\\n",
      "1     2024-01-02             India        Roll-on                   26   \n",
      "9     2024-01-10             India          Spray                   23   \n",
      "11    2024-01-12             India          Spray                   32   \n",
      "12    2024-01-13             India          Stick                   20   \n",
      "15    2024-01-16             India          Stick                   17   \n",
      "...          ...               ...            ...                  ...   \n",
      "9985  2051-05-04             India          Stick                   21   \n",
      "9986  2051-05-05             India          Spray                   15   \n",
      "9988  2051-05-07             India        Roll-on                   36   \n",
      "9991  2051-05-10             India          Stick                   24   \n",
      "9992  2051-05-11             India        Roll-on                   14   \n",
      "\n",
      "      Sales in Last Month (Units)  Discount (%) Retailer Name  \n",
      "1                            3616            36      Flipkart  \n",
      "9                            9241            16        Amazon  \n",
      "11                           9612            19        Myntra  \n",
      "12                           1001            11   Local Store  \n",
      "15                           1351            31         Nykaa  \n",
      "...                           ...           ...           ...  \n",
      "9985                         7281            14   Local Store  \n",
      "9986                         9464             0   Local Store  \n",
      "9988                         9426            38         Nykaa  \n",
      "9991                         6481            16         Nykaa  \n",
      "9992                         9563            20         Nykaa  \n",
      "\n",
      "[3680 rows x 20 columns]\n"
     ]
    }
   ],
   "source": [
    "High_Price_df= df[(df[\"Price (INR)\"]>500 )]\n",
    "print(High_Price_df)"
   ]
  },
  {
   "cell_type": "markdown",
   "id": "3b8a9eed-a988-4572-b2c9-4fad1baa7c47",
   "metadata": {},
   "source": [
    "4. Sorting Data : Find the top 5 deodorant with the highest customer rating"
   ]
  },
  {
   "cell_type": "code",
   "execution_count": 10,
   "id": "3b96dae8-e04e-4350-aa39-c4f2930d7747",
   "metadata": {},
   "outputs": [
    {
     "name": "stdout",
     "output_type": "stream",
     "text": [
      "                 Brand Name Product Name Category Fragrance Type  Volume (ml)  \\\n",
      "8283  Park Avenue Deodorant   Variant 23    Women          Woody          250   \n",
      "861          Nike Deodorant    Variant 6    Women        Aquatic          200   \n",
      "6978         Nike Deodorant   Variant 12   Unisex          Fresh          100   \n",
      "4831             Engage Deo   Variant 10      Men       Oriental          150   \n",
      "527          Nike Deodorant   Variant 42      Men         Floral          200   \n",
      "...                     ...          ...      ...            ...          ...   \n",
      "6455                  Nivea    Variant 3   Unisex         Fruity          100   \n",
      "9374     Denver Deo for Men   Variant 12      Men         Citrus          100   \n",
      "245                   Nivea   Variant 17    Women         Citrus          150   \n",
      "2292       Rexona Deodorant    Variant 6   Unisex         Floral          250   \n",
      "0            Nike Deodorant   Variant 29      Men          Fresh          200   \n",
      "\n",
      "      Price (INR)  Long-lasting (hours) Alcohol-Free Skin-Friendly  \\\n",
      "8283          431                    20           No            No   \n",
      "861           475                    17           No            No   \n",
      "6978          624                    19           No           Yes   \n",
      "4831          182                    14           No           Yes   \n",
      "527           247                    11          Yes           Yes   \n",
      "...           ...                   ...          ...           ...   \n",
      "6455          243                    17          Yes           Yes   \n",
      "9374          181                    13           No            No   \n",
      "245           477                    12          Yes            No   \n",
      "2292          517                     6          Yes           Yes   \n",
      "0             265                    15           No            No   \n",
      "\n",
      "     Anti-Perspirant  Customer Rating  Number of Reviews Manufacturing Date  \\\n",
      "8283             Yes              5.0               1496         2044-09-05   \n",
      "861              Yes              5.0                885         2024-05-11   \n",
      "6978              No              5.0                557         2041-02-08   \n",
      "4831             Yes              5.0               2627         2035-03-25   \n",
      "527               No              5.0               1501         2023-06-12   \n",
      "...              ...              ...                ...                ...   \n",
      "6455             Yes              2.5               4640         2039-09-04   \n",
      "9374              No              2.5                320         2047-09-01   \n",
      "245              Yes              2.5               2663         2022-09-03   \n",
      "2292              No              2.5               2615         2028-04-11   \n",
      "0                Yes              2.5               4654         2022-01-01   \n",
      "\n",
      "     Expiry Date Country of Origin Packaging Type  Shelf Life (Months)  \\\n",
      "8283  2046-09-05             India        Roll-on                   35   \n",
      "861   2026-05-11             India          Spray                   22   \n",
      "6978  2043-02-08             India          Spray                   21   \n",
      "4831  2037-03-24             India          Spray                   30   \n",
      "527   2025-06-11             India          Spray                   19   \n",
      "...          ...               ...            ...                  ...   \n",
      "6455  2041-09-03             India          Stick                   17   \n",
      "9374  2049-08-31             India          Stick                   30   \n",
      "245   2024-09-02             India          Stick                   34   \n",
      "2292  2030-04-11             India        Roll-on                   31   \n",
      "0     2024-01-01             India        Roll-on                   25   \n",
      "\n",
      "      Sales in Last Month (Units)  Discount (%) Retailer Name  \n",
      "8283                         4159             0      Flipkart  \n",
      "861                          4008            31      Flipkart  \n",
      "6978                         1564            41        Myntra  \n",
      "4831                         9276            28   Local Store  \n",
      "527                          4180            21      Flipkart  \n",
      "...                           ...           ...           ...  \n",
      "6455                         4864            11         Nykaa  \n",
      "9374                         9335            47        Amazon  \n",
      "245                          3652            20      Flipkart  \n",
      "2292                          718            32        Amazon  \n",
      "0                            8623            20         Nykaa  \n",
      "\n",
      "[10000 rows x 20 columns]\n"
     ]
    }
   ],
   "source": [
    "data1=df.sort_values(by = \"Customer Rating\",ascending = False)\n",
    "print(data1)"
   ]
  },
  {
   "cell_type": "markdown",
   "id": "6e293503-db8a-4afc-b43f-ae7834ac01c9",
   "metadata": {},
   "source": [
    "5. Basic Aggregation : What is the average price of deodorant in the dataset ?"
   ]
  },
  {
   "cell_type": "code",
   "execution_count": 11,
   "id": "4fa52614-96b9-4c10-8de6-bcc2de7d6ba7",
   "metadata": {},
   "outputs": [],
   "source": [
    "data2= np.mean(df[\"Price (INR)\"])"
   ]
  },
  {
   "cell_type": "code",
   "execution_count": 12,
   "id": "d7d856c7-2e48-4f22-a462-b2d3d9ba5c13",
   "metadata": {},
   "outputs": [
    {
     "name": "stdout",
     "output_type": "stream",
     "text": [
      "Average price of deodorant in the dataset is ,  426.0812\n"
     ]
    }
   ],
   "source": [
    "print(\"Average price of deodorant in the dataset is , \" , data2)"
   ]
  },
  {
   "cell_type": "code",
   "execution_count": null,
   "id": "ff4f8259-86fc-45b6-b918-cf1b423cc91b",
   "metadata": {},
   "outputs": [],
   "source": []
  },
  {
   "cell_type": "markdown",
   "id": "38dd5e44-e79d-4280-9a7f-a149077f5e5a",
   "metadata": {},
   "source": [
    "Intermediate Questions :\n",
    "\n",
    "6. Statistical Analysis: What is the standard deviation of the price of deodorants?"
   ]
  },
  {
   "cell_type": "code",
   "execution_count": 13,
   "id": "d33d5ec1-5e8f-4b21-8efe-7ba4c5f17d6e",
   "metadata": {},
   "outputs": [
    {
     "name": "stdout",
     "output_type": "stream",
     "text": [
      "The standard deviation of price (INR) is , 158.34499488951332\n"
     ]
    }
   ],
   "source": [
    "np.std(df[\"Price (INR)\"])\n",
    "print(\"The standard deviation of price (INR) is ,\", np.std(df[\"Price (INR)\"]))"
   ]
  },
  {
   "cell_type": "markdown",
   "id": "e99cfae7-ad40-4291-bb10-9be7d9abcc73",
   "metadata": {},
   "source": [
    "7. Grouping Data: Find the average customer rating for each fragrance type."
   ]
  },
  {
   "cell_type": "code",
   "execution_count": 14,
   "id": "002dab1a-63c7-4551-b473-a7b7946669b1",
   "metadata": {},
   "outputs": [
    {
     "name": "stdout",
     "output_type": "stream",
     "text": [
      "Fragrance Type\n",
      "Aquatic     3.712577\n",
      "Citrus      3.752602\n",
      "Floral      3.725506\n",
      "Fresh       3.749279\n",
      "Fruity      3.758225\n",
      "Oriental    3.756240\n",
      "Spicy       3.723595\n",
      "Woody       3.695126\n",
      "Name: Customer Rating, dtype: float64\n"
     ]
    }
   ],
   "source": [
    "df_grouping= df.groupby(\"Fragrance Type\")[\"Customer Rating\"].mean()\n",
    "print(df_grouping)"
   ]
  },
  {
   "cell_type": "markdown",
   "id": "5ad2499d-17aa-470f-8916-3b3f4843bd59",
   "metadata": {},
   "source": [
    "8. Time-Based Analysis: How many deodorants are set to expire in 2025?"
   ]
  },
  {
   "cell_type": "markdown",
   "id": "14d80fd5-a6fd-4b5b-8327-2d3281d1399d",
   "metadata": {},
   "source": [
    "9. Sales Insights: Which brand had the highest total sales in the last month?"
   ]
  },
  {
   "cell_type": "code",
   "execution_count": 15,
   "id": "ad5cfea1-bb0c-4110-a09c-ae3b32201a84",
   "metadata": {},
   "outputs": [
    {
     "name": "stdout",
     "output_type": "stream",
     "text": [
      "brand had the highest total sales in the last month is , Engage Deo\n"
     ]
    }
   ],
   "source": [
    "last_month_highest_sales=df.groupby(\"Brand Name\")[\"Sales in Last Month (Units)\"].sum().idxmax()\n",
    "print(\"brand had the highest total sales in the last month is ,\" , last_month_highest_sales)"
   ]
  },
  {
   "cell_type": "markdown",
   "id": "c2d35d76-5daa-4567-a918-3d36b1e36b34",
   "metadata": {},
   "source": [
    "10. Discount Impact: What is the correlation between discount percentage and sales in the last month?"
   ]
  },
  {
   "cell_type": "code",
   "execution_count": 16,
   "id": "b0830296-381b-4cd5-ba05-25a3e78a6032",
   "metadata": {},
   "outputs": [
    {
     "name": "stdout",
     "output_type": "stream",
     "text": [
      "Correlation between Discount Percentage and Sales: -0.004398786864881816\n"
     ]
    }
   ],
   "source": [
    "correlation = df[\"Discount (%)\"].corr(df[\"Sales in Last Month (Units)\"])\n",
    "print(f\"Correlation between Discount Percentage and Sales: {correlation}\")"
   ]
  },
  {
   "cell_type": "code",
   "execution_count": null,
   "id": "94b98667-3900-4728-90cf-3f7ec9291375",
   "metadata": {},
   "outputs": [],
   "source": []
  },
  {
   "cell_type": "markdown",
   "id": "87b877b6-354f-4690-9335-ab97676a9931",
   "metadata": {},
   "source": [
    "Advanced Questions\n",
    "\n",
    "11. Data Visualization: Create a histogram of deodorant prices using Matplotlib."
   ]
  },
  {
   "cell_type": "code",
   "execution_count": 19,
   "id": "cf94a589-57e9-45b7-ae64-0e371eca85f9",
   "metadata": {},
   "outputs": [
    {
     "data": {
      "image/png": "[encoded data removed]",
      "text/plain": [
       "<Figure size 640x480 with 1 Axes>"
      ]
     },
     "metadata": {},
     "output_type": "display_data"
    }
   ],
   "source": [
    "histogram= df[\"Price (INR)\"]\n",
    "plt.hist(histogram, bins = 60, color=\"Skyblue\",edgecolor= \"black\")\n",
    "plt.xlabel(\"Price (INR)\")\n",
    "plt.show()"
   ]
  },
  {
   "cell_type": "markdown",
   "id": "544116b6-a291-489c-99fe-beaf4e60c9fc",
   "metadata": {},
   "source": [
    "12. Boxplot Analysis: Plot a boxplot showing the distribution of customer ratings by fragrance type."
   ]
  },
  {
   "cell_type": "code",
   "execution_count": 23,
   "id": "07b4e3da-24dd-495f-adf9-d1ebba07f141",
   "metadata": {},
   "outputs": [
    {
     "name": "stderr",
     "output_type": "stream",
     "text": [
      "C:\\Users\\soura\\AppData\\Local\\Temp\\ipykernel_13676\\3686538829.py:2: FutureWarning: \n",
      "\n",
      "Passing `palette` without assigning `hue` is deprecated and will be removed in v0.14.0. Assign the `x` variable to `hue` and set `legend=False` for the same effect.\n",
      "\n",
      "  sns.boxplot(x=df['Fragrance Type'], y=df[\"Customer Rating\"], data=df, palette='pastel')\n"
     ]
    },
    {
     "data": {
      "text/plain": [
       "<Axes: xlabel='Fragrance Type', ylabel='Customer Rating'>"
      ]
     },
     "execution_count": 23,
     "metadata": {},
     "output_type": "execute_result"
    },
    {
     "data": {
      "image/png": "[encoded data removed]",
      "text/plain": [
       "<Figure size 800x600 with 1 Axes>"
      ]
     },
     "metadata": {},
     "output_type": "display_data"
    }
   ],
   "source": [
    "plt.figure(figsize=(8, 6))\n",
    "sns.boxplot(x=df['Fragrance Type'], y=df[\"Customer Rating\"], data=df, palette='pastel')"
   ]
  },
  {
   "cell_type": "code",
   "execution_count": null,
   "id": "bef94c0f-4d06-42c9-ba7c-c98e0c6f7d30",
   "metadata": {},
   "outputs": [],
   "source": []
  },
  {
   "cell_type": "markdown",
   "id": "37167ea4-312c-4779-ba5c-36567bd162ef",
   "metadata": {},
   "source": [
    "13. Outlier Detection: Identify outliers in deodorant prices using NumPy and boxplot techniques.\n"
   ]
  },
  {
   "cell_type": "code",
   "execution_count": 24,
   "id": "5e8845cc-ef22-46c4-b42b-67ecc69d3e82",
   "metadata": {},
   "outputs": [
    {
     "name": "stdout",
     "output_type": "stream",
     "text": [
      "Identified Outliers: [20. 25.]\n"
     ]
    },
    {
     "data": {
      "image/png": "[encoded data removed]",
      "text/plain": [
       "<Figure size 600x400 with 1 Axes>"
      ]
     },
     "metadata": {},
     "output_type": "display_data"
    }
   ],
   "source": [
    "# Sample Deodorant Prices (in USD)\n",
    "prices = np.array([4.5, 5.0, 5.5, 6.0, 6.2, 6.5, 7.0, 7.8, 8.0, 20.0, 25.0])  # Two outliers (20.0, 25.0)\n",
    "\n",
    "# Calculate Q1 (25th percentile) and Q3 (75th percentile)\n",
    "Q1 = np.percentile(prices, 25)\n",
    "Q3 = np.percentile(prices, 75)\n",
    "\n",
    "# Compute Interquartile Range (IQR)\n",
    "IQR = Q3 - Q1\n",
    "\n",
    "# Define lower and upper bounds for outliers\n",
    "lower_bound = Q1 - 1.5 * IQR\n",
    "upper_bound = Q3 + 1.5 * IQR\n",
    "\n",
    "# Identify outliers\n",
    "outliers = prices[(prices < lower_bound) | (prices > upper_bound)]\n",
    "\n",
    "# Print detected outliers\n",
    "print(\"Identified Outliers:\", outliers)\n",
    "\n",
    "# Boxplot Visualization\n",
    "plt.figure(figsize=(6, 4))\n",
    "sns.boxplot(x=prices, color='lightblue', showmeans=True)\n",
    "plt.title('Boxplot of Deodorant Prices')\n",
    "plt.xlabel('Price (USD)')\n",
    "plt.show()\n"
   ]
  }
 ],
 "metadata": {
  "kernelspec": {
   "display_name": "Python 3 (ipykernel)",
   "language": "python",
   "name": "python3"
  },
  "language_info": {
   "codemirror_mode": {
    "name": "ipython",
    "version": 3
   },
   "file_extension": ".py",
   "mimetype": "text/x-python",
   "name": "python",
   "nbconvert_exporter": "python",
   "pygments_lexer": "ipython3",
   "version": "3.11.5"
  }
 },
 "nbformat": 4,
 "nbformat_minor": 5
}
